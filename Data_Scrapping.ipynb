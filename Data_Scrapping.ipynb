{
  "nbformat": 4,
  "nbformat_minor": 0,
  "metadata": {
    "colab": {
      "name": "Data Scrapping",
      "provenance": []
    },
    "kernelspec": {
      "name": "python3",
      "display_name": "Python 3"
    },
    "language_info": {
      "name": "python"
    }
  },
  "cells": [
    {
      "cell_type": "markdown",
      "metadata": {
        "id": "uk4vgdOQjAIS"
      },
      "source": [
        "# Data Scrapping\n",
        "\n"
      ]
    },
    {
      "cell_type": "code",
      "metadata": {
        "colab": {
          "base_uri": "https://localhost:8080/"
        },
        "id": "xFQJPW0hcs49",
        "outputId": "b83ba514-84db-4c4e-b814-265ac5f3ac48"
      },
      "source": [
        "!pip install spotipy"
      ],
      "execution_count": null,
      "outputs": [
        {
          "output_type": "stream",
          "name": "stdout",
          "text": [
            "Collecting spotipy\n",
            "  Downloading spotipy-2.19.0-py3-none-any.whl (27 kB)\n",
            "Collecting urllib3>=1.26.0\n",
            "  Downloading urllib3-1.26.7-py2.py3-none-any.whl (138 kB)\n",
            "\u001b[K     |████████████████████████████████| 138 kB 38.4 MB/s \n",
            "\u001b[?25hCollecting requests>=2.25.0\n",
            "  Downloading requests-2.26.0-py2.py3-none-any.whl (62 kB)\n",
            "\u001b[K     |████████████████████████████████| 62 kB 918 kB/s \n",
            "\u001b[?25hRequirement already satisfied: six>=1.15.0 in /usr/local/lib/python3.7/dist-packages (from spotipy) (1.15.0)\n",
            "Requirement already satisfied: certifi>=2017.4.17 in /usr/local/lib/python3.7/dist-packages (from requests>=2.25.0->spotipy) (2021.10.8)\n",
            "Requirement already satisfied: idna<4,>=2.5 in /usr/local/lib/python3.7/dist-packages (from requests>=2.25.0->spotipy) (2.10)\n",
            "Requirement already satisfied: charset-normalizer~=2.0.0 in /usr/local/lib/python3.7/dist-packages (from requests>=2.25.0->spotipy) (2.0.7)\n",
            "Installing collected packages: urllib3, requests, spotipy\n",
            "  Attempting uninstall: urllib3\n",
            "    Found existing installation: urllib3 1.24.3\n",
            "    Uninstalling urllib3-1.24.3:\n",
            "      Successfully uninstalled urllib3-1.24.3\n",
            "  Attempting uninstall: requests\n",
            "    Found existing installation: requests 2.23.0\n",
            "    Uninstalling requests-2.23.0:\n",
            "      Successfully uninstalled requests-2.23.0\n",
            "\u001b[31mERROR: pip's dependency resolver does not currently take into account all the packages that are installed. This behaviour is the source of the following dependency conflicts.\n",
            "google-colab 1.0.0 requires requests~=2.23.0, but you have requests 2.26.0 which is incompatible.\n",
            "datascience 0.10.6 requires folium==0.2.1, but you have folium 0.8.3 which is incompatible.\u001b[0m\n",
            "Successfully installed requests-2.26.0 spotipy-2.19.0 urllib3-1.26.7\n"
          ]
        }
      ]
    },
    {
      "cell_type": "code",
      "metadata": {
        "id": "glRA2lImcpMj"
      },
      "source": [
        "import pandas as pd\n",
        "from datetime import datetime\n",
        "import spotipy\n",
        "from spotipy.oauth2 import SpotifyClientCredentials"
      ],
      "execution_count": null,
      "outputs": []
    },
    {
      "cell_type": "code",
      "metadata": {
        "id": "ZWdeXGv3cpwR"
      },
      "source": [
        "client_id = 'ff9263f7af3e4e88b59d5fa5cf2c0ce9'\n",
        "client_secret = 'd584809dcea048c385338aca74649ed0'\n",
        "\n",
        "client_credentials_manager = SpotifyClientCredentials(client_id = client_id, client_secret = client_secret)\n",
        "sp = spotipy.Spotify(client_credentials_manager = client_credentials_manager)"
      ],
      "execution_count": null,
      "outputs": []
    },
    {
      "cell_type": "code",
      "metadata": {
        "id": "2RUwffxac-dC"
      },
      "source": [
        "top_username = 'spotifycharts'\n",
        "top_playlist_ids = ['37i9dQZEVXbJiZcmkrIHGU','37i9dQZEVXbMMy2roB9myp','37i9dQZEVXbJPcfkRz0wJ0','37i9dQZEVXbKNHh6NIXu36',\n",
        "                    '37i9dQZEVXbJNSeeHswcKB','37i9dQZEVXbJqfMFK4d691','37i9dQZEVXbMXbN3EUUhlg','37i9dQZEVXbNfM2w2mq1B8',\n",
        "                    '37i9dQZEVXbKj23U1GF4IR','37i9dQZEVXbL0GavIqMTeb','37i9dQZEVXbOa2lmxNORXQ','37i9dQZEVXbMZAjGMynsQX',\n",
        "                    '37i9dQZEVXbL3J0k32lWnN','37i9dQZEVXbLxoIml4MYkT','37i9dQZEVXbJlM6nvL1nD1','37i9dQZEVXbKIVTPX9a2Sb',\n",
        "                    '37i9dQZEVXbNFJfN1Vw8d9','37i9dQZEVXbLRQDuF5jeBp','37i9dQZEVXbLesry2Qw2xS','37i9dQZEVXbNBz9cRCSFkY',\n",
        "                    '37i9dQZEVXbMxcczTSoGwZ','37i9dQZEVXbIPWwFssbupI','37i9dQZEVXbJqdarpmTJDL','37i9dQZEVXbLy5tBFyQvd4',\n",
        "                    '37i9dQZEVXbKCF6dqVpDkS','37i9dQZEVXbJp9wcIM9Eo5','37i9dQZEVXbLwpL8TjsxOG','37i9dQZEVXbNHwMxAkvmF8',\n",
        "                    '37i9dQZEVXbLZ52XmnySJg','37i9dQZEVXbObFQZ3JLcXt','37i9dQZEVXbKM896FDX8L1','37i9dQZEVXbKMzVsSGQ49S',\n",
        "                    '37i9dQZEVXbJ6IpvItkve3','37i9dQZEVXbIQnj7RRhdSX','37i9dQZEVXbKXQ4mDTEBXq','37i9dQZEVXbJWuzDrTxbKS',\n",
        "                    '37i9dQZEVXbMx56Rdq5lwc','37i9dQZEVXbKGcyg6TFGx6','37i9dQZEVXbJlfUljuZExa','37i9dQZEVXbO3qyFxbkOE1',\n",
        "                    '37i9dQZEVXbISk8kxnzfCq','37i9dQZEVXbJvfa0Yxg7E7','37i9dQZEVXbM8SIrkERIYl','37i9dQZEVXbKypXHVwk1f0',\n",
        "                    '37i9dQZEVXbNOUPGj7tW6T','37i9dQZEVXbJfdy5b0KP7W','37i9dQZEVXbN6itCcaL3Tt','37i9dQZEVXbKyJS56d1pgi',\n",
        "                    '37i9dQZEVXbLnolsZ8PSNw','37i9dQZEVXbKAbrMR8uuf7','37i9dQZEVXbNZbJ6TZelCq','37i9dQZEVXbL8l7ra5vVdB',\n",
        "                    '37i9dQZEVXbK4gjvS1FjPY','37i9dQZEVXbLoATJ81JYXz','37i9dQZEVXbJiyhoAPEfMK','37i9dQZEVXbMnz8KIWsvf9',\n",
        "                    '37i9dQZEVXbMnZEatlMSiu','37i9dQZEVXbIP3c3fqVrJY','37i9dQZEVXbIVYVBNw9D5K','37i9dQZEVXbKkidEfWYRuD',\n",
        "                    '37i9dQZEVXbMJJi3wgRbAy','37i9dQZEVXbLdGSmz6xilI','37i9dQZEVXbMDoHDwVN2tF','37i9dQZEVXbMH2jvi6jvjk', \n",
        "                    '37i9dQZF1DWYJ5kmTbkZiz','37i9dQZF1DX1HUbZS4LEyL','37i9dQZF1DX7fxmJCMXN72','37i9dQZF1DWZTevReS5evR',\n",
        "                    '37i9dQZF1DX7Jl5KP2eZaS','37i9dQZF1DWTE7dVUebpUW','37i9dQZF1DWTqOoGdpVCf0','37i9dQZF1DX9ukdrXQLJGZ',\n",
        "                    '37i9dQZF1DX8XZ6AUo9R4R']"
      ],
      "execution_count": null,
      "outputs": []
    },
    {
      "cell_type": "code",
      "metadata": {
        "id": "wIl5IrI2df_d"
      },
      "source": [
        "username = 'Spotify'\n",
        "playlist_ids = ['37i9dQZF1DXdSjVZQzv2tl','37i9dQZF1DWTkIwO2HDifB','37i9dQZF1DWVjNkaVEkL3X','37i9dQZF1DWZylNQMXNhNe',\n",
        "                '37i9dQZF1DWSIvbYYt1Dvi','37i9dQZF1DX0OEZC3cbQmU','37i9dQZF1DWTWoEMrRMHZ8','37i9dQZF1DWXx6OpWBkqVv',\n",
        "                '37i9dQZF1DWZjqjZMudx9T','37i9dQZF1DWTMlvEhEJDRB','37i9dQZF1DX6EQe4DjJNfI','37i9dQZF1DX9tPFwDMOaN1',\n",
        "                '37i9dQZF1DXbITWG1ZJKYt','37i9dQZF1DWWkrGNlIHxPl','37i9dQZF1DWYkaDif7Ztbp','37i9dQZF1DXafb0IuPwJyF',\n",
        "                '37i9dQZF1DWTwzVdyRpXm1','37i9dQZF1DXd9rSDyQguIk','37i9dQZF1DX3LDIBRoaCDQ','37i9dQZF1DWTcqUzwhNmKv',\n",
        "                '37i9dQZF1DWYV7OOaGhoH0','37i9dQZF1DX4vCk1GJH7zl','37i9dQZF1DX6aTaZa0K6VA','37i9dQZF1DX2R0a3scWaq6',\n",
        "                '37i9dQZF1DX2aneNMeYHQ8','37i9dQZF1DWYiR2Uqcon0X','37i9dQZF1DX62Nfha2yFhL','37i9dQZF1DXa41CMuUARjl',\n",
        "                '37i9dQZF1DX82GYcclJ3Ug','37i9dQZF1DX1tW4VlEfDSS','37i9dQZF1DWYzMfRQj22Nd','37i9dQZF1DXa9xHlDa5fc6']"
      ],
      "execution_count": null,
      "outputs": []
    },
    {
      "cell_type": "code",
      "metadata": {
        "id": "zNHWenwgdhHd"
      },
      "source": [
        "predict_playlist_ids = ['37i9dQZF1DX4JAvHpjipBk']"
      ],
      "execution_count": null,
      "outputs": []
    },
    {
      "cell_type": "code",
      "metadata": {
        "colab": {
          "base_uri": "https://localhost:8080/"
        },
        "id": "QaKSUU5ZeJrW",
        "outputId": "31e2cc17-bcdb-499a-9b54-c99b369414a6"
      },
      "source": [
        "def get_playlists_id_tracks(username, playlist_id, sp, ids):\n",
        "    offset = 0\n",
        "    songs = []\n",
        "    while True:\n",
        "        content_playlist = sp.user_playlist_tracks(username, playlist_id, fields=None, limit=100, offset=offset)\n",
        "        songs += content_playlist['items']\n",
        "        if content_playlist['next'] is not None:\n",
        "            offset += 100\n",
        "        else:\n",
        "            break\n",
        "    for i in songs:\n",
        "        # Consider music only\n",
        "        if (i['track'] != None):\n",
        "            ids.append(i['track']['id'])\n",
        "    \n",
        "def remove_duplicates(ids):\n",
        "    print(\"Total number of songs: \", len(ids))\n",
        "    final_ids = list(set(ids))\n",
        "    print(\"Number of song after removing duplicates: \", len(final_ids))\n",
        "    return final_ids\n",
        "\n",
        "# Get top (hit) track ids\n",
        "print(\"Top 50 songs by country\")\n",
        "top_ids = []\n",
        "for playlist_id in top_playlist_ids:\n",
        "    get_playlists_id_tracks(top_username, playlist_id, sp, top_ids)\n",
        "top_ids = remove_duplicates(top_ids)\n",
        "\n",
        "# Get genre track ids\n",
        "print(\"\\nRandom playlist songs by genre\")\n",
        "genre_ids = []\n",
        "for playlist_id in playlist_ids:\n",
        "    get_playlists_id_tracks(username, playlist_id, sp, genre_ids)\n",
        "genre_ids = remove_duplicates(genre_ids)\n",
        "\n",
        "#  Get only non hit track ids\n",
        "non_hit_ids = [x for x in genre_ids if x not in top_ids]\n",
        "print(\"\\nNumber of random playlist songs by genre that are not in the Top 50 by country: \", len(non_hit_ids))\n",
        "\n",
        "# Get predict track ids\n",
        "print(\"\\nPredict playlist songs\")\n",
        "predict_ids = []\n",
        "for playlist_id in predict_playlist_ids:\n",
        "    get_playlists_id_tracks(username, playlist_id, sp, predict_ids)\n",
        "predict_ids = remove_duplicates(predict_ids)"
      ],
      "execution_count": null,
      "outputs": [
        {
          "output_type": "stream",
          "name": "stdout",
          "text": [
            "Top 50 songs by country\n",
            "Total number of songs:  3930\n",
            "Number of song after removing duplicates:  1887\n",
            "\n",
            "Random playlist songs by genre\n",
            "Total number of songs:  2529\n",
            "Number of song after removing duplicates:  2496\n",
            "\n",
            "Number of random playlist songs by genre that are not in the Top 50 by country:  2362\n",
            "\n",
            "Predict playlist songs\n",
            "Total number of songs:  100\n",
            "Number of song after removing duplicates:  100\n"
          ]
        }
      ]
    },
    {
      "cell_type": "code",
      "metadata": {
        "id": "yc9KLQiKeMdd"
      },
      "source": [
        "def get_track_info(track_ids, track_name, artist_name, popularity):\n",
        "    for id in track_ids:\n",
        "        info = sp.track(id)\n",
        "        track_name.append(info['name']) \n",
        "        artist_name.append(info['artists'][0]['name'])\n",
        "        popularity.append(info['popularity'])\n",
        "\n",
        "def get_track_features(track_ids, features_list): \n",
        "    index = 0\n",
        "    audio_features = []\n",
        "    while index < len(track_ids):\n",
        "        audio_features += sp.audio_features(track_ids[index:index + 50])\n",
        "        index += 50\n",
        "    for features in audio_features:\n",
        "        features_list.append([features['energy'], features['liveness'], features['tempo'], features['speechiness'],\n",
        "                              features['acousticness'], features['instrumentalness'], features['time_signature'],\n",
        "                              features['danceability'], features['key'], features['duration_ms'],\n",
        "                              features['loudness'], features['valence'], features['mode']])\n",
        "\n",
        "# Get information from success tracks\n",
        "top_track_name = []\n",
        "top_artist_name = []\n",
        "top_popularity = []\n",
        "top_features_list = []\n",
        "get_track_info(top_ids, top_track_name, top_artist_name, top_popularity)\n",
        "get_track_features(top_ids, top_features_list)\n",
        "\n",
        "# Get information from non success tracks\n",
        "track_name = []\n",
        "artist_name = []\n",
        "popularity = []\n",
        "features_list = []\n",
        "get_track_info(non_hit_ids, track_name, artist_name, popularity)\n",
        "get_track_features(non_hit_ids, features_list)\n",
        "\n",
        "# Get information from predict tracks\n",
        "predict_track_name = []\n",
        "predict_artist_name = []\n",
        "predict_popularity = []\n",
        "predict_features_list = []\n",
        "get_track_info(predict_ids, predict_track_name, predict_artist_name, predict_popularity)\n",
        "get_track_features(predict_ids, predict_features_list)"
      ],
      "execution_count": null,
      "outputs": []
    },
    {
      "cell_type": "code",
      "metadata": {
        "id": "asp0lBFZee4p"
      },
      "source": [
        "def build_dataframe(features_list, track_name, artist_name, popularity, top, predict):\n",
        "    df = pd.DataFrame(features_list, columns=['energy', 'liveness', 'tempo', 'speechiness', 'acousticness',\n",
        "                                              'instrumentalness', 'time_signature', 'danceability', 'key', 'duration_ms',\n",
        "                                              'loudness', 'valence', 'mode'])\n",
        "    df['artist'] = artist_name\n",
        "    df['track_name'] = track_name\n",
        "    df['popularity'] = popularity\n",
        "    \n",
        "    if not predict:\n",
        "        # Create class column: 1 sucess and 0 non success\n",
        "        if (top):\n",
        "            df['success'] = [1] * len(features_list)\n",
        "        else:\n",
        "            df['success'] = [0] * len(features_list)  \n",
        "    \n",
        "    return df\n",
        "\n",
        "# Build dataframe of hit songs\n",
        "top_df = build_dataframe(top_features_list, top_track_name, top_artist_name, top_popularity, True, False)\n",
        "\n",
        "# Build dataframe of non hit songs\n",
        "df = build_dataframe(features_list, track_name, artist_name, popularity, False, False)\n",
        "\n",
        "# Concatenate the two dataframes\n",
        "final_df = pd.concat([top_df, df])\n",
        "\n",
        "# Build dataframe of songs to predict\n",
        "predict_df = build_dataframe(predict_features_list, predict_track_name, predict_artist_name, predict_popularity, False, True)"
      ],
      "execution_count": null,
      "outputs": []
    },
    {
      "cell_type": "code",
      "metadata": {
        "id": "5PUVdu0ihMx5"
      },
      "source": [
        "\n",
        "now = datetime.now()\n",
        "date = now.strftime(\"%m%d%Y\")\n",
        "name = ['spotify-train', 'spotify-predict']\n",
        "dataframe = [final_df, predict_df]\n",
        "\n",
        "for i in range(len(dataframe)):\n",
        "    dataframe[i].to_csv('{}-{}.csv'.format(name[i], date), index=False)"
      ],
      "execution_count": null,
      "outputs": []
    },
    {
      "cell_type": "code",
      "metadata": {
        "id": "fbGqGIQcFeNf",
        "colab": {
          "base_uri": "https://localhost:8080/",
          "height": 35
        },
        "outputId": "d7a1c632-75d1-405f-d163-e24bea70cd1d"
      },
      "source": [
        "date"
      ],
      "execution_count": null,
      "outputs": [
        {
          "output_type": "execute_result",
          "data": {
            "application/vnd.google.colaboratory.intrinsic+json": {
              "type": "string"
            },
            "text/plain": [
              "'11112021'"
            ]
          },
          "metadata": {},
          "execution_count": 46
        }
      ]
    },
    {
      "cell_type": "code",
      "metadata": {
        "colab": {
          "base_uri": "https://localhost:8080/"
        },
        "id": "nLFHq9S_peE1",
        "outputId": "ac53b8de-3423-41f4-9dca-a001c95d9d8e"
      },
      "source": [
        "final_df.info()"
      ],
      "execution_count": null,
      "outputs": [
        {
          "output_type": "stream",
          "name": "stdout",
          "text": [
            "<class 'pandas.core.frame.DataFrame'>\n",
            "Int64Index: 4249 entries, 0 to 2361\n",
            "Data columns (total 17 columns):\n",
            " #   Column            Non-Null Count  Dtype  \n",
            "---  ------            --------------  -----  \n",
            " 0   energy            4249 non-null   float64\n",
            " 1   liveness          4249 non-null   float64\n",
            " 2   tempo             4249 non-null   float64\n",
            " 3   speechiness       4249 non-null   float64\n",
            " 4   acousticness      4249 non-null   float64\n",
            " 5   instrumentalness  4249 non-null   float64\n",
            " 6   time_signature    4249 non-null   int64  \n",
            " 7   danceability      4249 non-null   float64\n",
            " 8   key               4249 non-null   int64  \n",
            " 9   duration_ms       4249 non-null   int64  \n",
            " 10  loudness          4249 non-null   float64\n",
            " 11  valence           4249 non-null   float64\n",
            " 12  mode              4249 non-null   int64  \n",
            " 13  artist            4249 non-null   object \n",
            " 14  track_name        4249 non-null   object \n",
            " 15  popularity        4249 non-null   int64  \n",
            " 16  success           4249 non-null   int64  \n",
            "dtypes: float64(9), int64(6), object(2)\n",
            "memory usage: 597.5+ KB\n"
          ]
        }
      ]
    },
    {
      "cell_type": "code",
      "metadata": {
        "colab": {
          "base_uri": "https://localhost:8080/"
        },
        "id": "vS_SbmEppijq",
        "outputId": "0c275d3c-1b2b-4578-a178-3d87c6bd57fb"
      },
      "source": [
        "predict_df.info()"
      ],
      "execution_count": null,
      "outputs": [
        {
          "output_type": "stream",
          "name": "stdout",
          "text": [
            "<class 'pandas.core.frame.DataFrame'>\n",
            "RangeIndex: 100 entries, 0 to 99\n",
            "Data columns (total 16 columns):\n",
            " #   Column            Non-Null Count  Dtype  \n",
            "---  ------            --------------  -----  \n",
            " 0   energy            100 non-null    float64\n",
            " 1   liveness          100 non-null    float64\n",
            " 2   tempo             100 non-null    float64\n",
            " 3   speechiness       100 non-null    float64\n",
            " 4   acousticness      100 non-null    float64\n",
            " 5   instrumentalness  100 non-null    float64\n",
            " 6   time_signature    100 non-null    int64  \n",
            " 7   danceability      100 non-null    float64\n",
            " 8   key               100 non-null    int64  \n",
            " 9   duration_ms       100 non-null    int64  \n",
            " 10  loudness          100 non-null    float64\n",
            " 11  valence           100 non-null    float64\n",
            " 12  mode              100 non-null    int64  \n",
            " 13  artist            100 non-null    object \n",
            " 14  track_name        100 non-null    object \n",
            " 15  popularity        100 non-null    int64  \n",
            "dtypes: float64(9), int64(5), object(2)\n",
            "memory usage: 12.6+ KB\n"
          ]
        }
      ]
    },
    {
      "cell_type": "code",
      "metadata": {
        "id": "mVVj_v8ot0as"
      },
      "source": [
        ""
      ],
      "execution_count": null,
      "outputs": []
    },
    {
      "cell_type": "markdown",
      "metadata": {
        "id": "Sh5ILoT1jgR4"
      },
      "source": [
        "# Data Cleaning"
      ]
    },
    {
      "cell_type": "code",
      "metadata": {
        "id": "CP46GyqAjuUT"
      },
      "source": [
        "import pandas as pd\n",
        "df = data"
      ],
      "execution_count": null,
      "outputs": []
    }
  ]
}